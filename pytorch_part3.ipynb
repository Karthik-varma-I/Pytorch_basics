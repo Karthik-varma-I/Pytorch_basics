{
  "nbformat": 4,
  "nbformat_minor": 0,
  "metadata": {
    "colab": {
      "provenance": [],
      "include_colab_link": true
    },
    "kernelspec": {
      "name": "python3",
      "display_name": "Python 3"
    },
    "language_info": {
      "name": "python"
    }
  },
  "cells": [
    {
      "cell_type": "markdown",
      "metadata": {
        "id": "view-in-github",
        "colab_type": "text"
      },
      "source": [
        "<a href=\"https://colab.research.google.com/github/Karthik-varma-I/Pytorch_basics/blob/main/pytorch_part3.ipynb\" target=\"_parent\"><img src=\"https://colab.research.google.com/assets/colab-badge.svg\" alt=\"Open In Colab\"/></a>"
      ]
    },
    {
      "cell_type": "code",
      "execution_count": 1,
      "metadata": {
        "id": "HP0yUM6-BVgX"
      },
      "outputs": [],
      "source": [
        "# Pytorch WorkFlow\n",
        "# 1--> data(prepare and load)\n",
        "# 2--> Build model\n",
        "# 3--> fitting the model to data\n",
        "# 4--> making predicitions and evaluting a model\n",
        "# 5--> saving and loading a model\n",
        "# 6--> putting it all  together"
      ]
    },
    {
      "cell_type": "code",
      "source": [
        "import torch\n",
        "from torch import nn # nn contains of all pytorch building blocks for nueral network\n",
        "import matplotlib.pyplot as plt\n",
        "torch.__version__"
      ],
      "metadata": {
        "colab": {
          "base_uri": "https://localhost:8080/",
          "height": 36
        },
        "id": "5OVD7zVqCKMZ",
        "outputId": "9f9dff84-0bda-49c9-b5fe-b383da48fcf6"
      },
      "execution_count": 2,
      "outputs": [
        {
          "output_type": "execute_result",
          "data": {
            "text/plain": [
              "'2.1.0+cu121'"
            ],
            "application/vnd.google.colaboratory.intrinsic+json": {
              "type": "string"
            }
          },
          "metadata": {},
          "execution_count": 2
        }
      ]
    },
    {
      "cell_type": "code",
      "source": [
        "#create known paramets\n",
        "weight = 0.75\n",
        "bias =0.25\n",
        "#create\n",
        "s=0\n",
        "e=2\n",
        "step=0.05\n",
        "X=torch.arange(s,e,step).unsqueeze(dim=1)\n",
        "y=weight * X+bias\n",
        "print(X,end=\" \")\n",
        "print(y)\n",
        "print(len(X),len(y))"
      ],
      "metadata": {
        "colab": {
          "base_uri": "https://localhost:8080/"
        },
        "id": "GEcDGaAOD7Cz",
        "outputId": "e2546c0a-2f8d-45f0-82f6-560592378ac2"
      },
      "execution_count": 3,
      "outputs": [
        {
          "output_type": "stream",
          "name": "stdout",
          "text": [
            "tensor([[0.0000],\n",
            "        [0.0500],\n",
            "        [0.1000],\n",
            "        [0.1500],\n",
            "        [0.2000],\n",
            "        [0.2500],\n",
            "        [0.3000],\n",
            "        [0.3500],\n",
            "        [0.4000],\n",
            "        [0.4500],\n",
            "        [0.5000],\n",
            "        [0.5500],\n",
            "        [0.6000],\n",
            "        [0.6500],\n",
            "        [0.7000],\n",
            "        [0.7500],\n",
            "        [0.8000],\n",
            "        [0.8500],\n",
            "        [0.9000],\n",
            "        [0.9500],\n",
            "        [1.0000],\n",
            "        [1.0500],\n",
            "        [1.1000],\n",
            "        [1.1500],\n",
            "        [1.2000],\n",
            "        [1.2500],\n",
            "        [1.3000],\n",
            "        [1.3500],\n",
            "        [1.4000],\n",
            "        [1.4500],\n",
            "        [1.5000],\n",
            "        [1.5500],\n",
            "        [1.6000],\n",
            "        [1.6500],\n",
            "        [1.7000],\n",
            "        [1.7500],\n",
            "        [1.8000],\n",
            "        [1.8500],\n",
            "        [1.9000],\n",
            "        [1.9500]]) tensor([[0.2500],\n",
            "        [0.2875],\n",
            "        [0.3250],\n",
            "        [0.3625],\n",
            "        [0.4000],\n",
            "        [0.4375],\n",
            "        [0.4750],\n",
            "        [0.5125],\n",
            "        [0.5500],\n",
            "        [0.5875],\n",
            "        [0.6250],\n",
            "        [0.6625],\n",
            "        [0.7000],\n",
            "        [0.7375],\n",
            "        [0.7750],\n",
            "        [0.8125],\n",
            "        [0.8500],\n",
            "        [0.8875],\n",
            "        [0.9250],\n",
            "        [0.9625],\n",
            "        [1.0000],\n",
            "        [1.0375],\n",
            "        [1.0750],\n",
            "        [1.1125],\n",
            "        [1.1500],\n",
            "        [1.1875],\n",
            "        [1.2250],\n",
            "        [1.2625],\n",
            "        [1.3000],\n",
            "        [1.3375],\n",
            "        [1.3750],\n",
            "        [1.4125],\n",
            "        [1.4500],\n",
            "        [1.4875],\n",
            "        [1.5250],\n",
            "        [1.5625],\n",
            "        [1.6000],\n",
            "        [1.6375],\n",
            "        [1.6750],\n",
            "        [1.7125]])\n",
            "40 40\n"
          ]
        }
      ]
    },
    {
      "cell_type": "code",
      "source": [
        "a=int(0.8 * len(X))\n",
        "x_train,y_train,x_test,y_test=X[:a],y[:a],X[a:],y[a:]\n",
        "len(x_train),len(y_train),len(x_test),len(y_test)"
      ],
      "metadata": {
        "colab": {
          "base_uri": "https://localhost:8080/"
        },
        "id": "AqNx-nN4GadH",
        "outputId": "0937ec4a-516e-4d2c-b129-3c1e48c21ec8"
      },
      "execution_count": 4,
      "outputs": [
        {
          "output_type": "execute_result",
          "data": {
            "text/plain": [
              "(32, 32, 8, 8)"
            ]
          },
          "metadata": {},
          "execution_count": 4
        }
      ]
    },
    {
      "cell_type": "code",
      "source": [
        "def plot_predicitions(train_data=x_train,\n",
        "                      train_labels=y_train,\n",
        "                      test_data=x_test,\n",
        "                      test_labels=y_test,\n",
        "                      predictions=None):\n",
        "  plt.figure(figsize=(4,3))\n",
        "  plt.scatter(train_data,train_labels,c=\"b\",s=4,label=\"Training Data\")\n",
        "  plt.scatter(test_data,test_labels,c=\"r\",s=4,label=\"Testing Data\")\n",
        "  if predictions is not None:\n",
        "    plt.scatter(test_data, predictions, c=\"g\",s=4,label=\"Predicitons\")\n",
        "  plt.legend(prop={\"size\":8})"
      ],
      "metadata": {
        "id": "gp9i3M7dLt_x"
      },
      "execution_count": 5,
      "outputs": []
    },
    {
      "cell_type": "code",
      "source": [
        "plot_predicitions()"
      ],
      "metadata": {
        "colab": {
          "base_uri": "https://localhost:8080/",
          "height": 292
        },
        "id": "cva3aqG1Nh_E",
        "outputId": "3792ac70-f9ac-4c1e-ba37-a3df3560e1ec"
      },
      "execution_count": 6,
      "outputs": [
        {
          "output_type": "display_data",
          "data": {
            "text/plain": [
              "<Figure size 400x300 with 1 Axes>"
            ],
            "image/png": "[encoded data removed]"
          },
          "metadata": {}
        }
      ]
    },
    {
      "cell_type": "markdown",
      "source": [
        " ## Build linear Regression Model"
      ],
      "metadata": {
        "id": "cfuzBM231zVI"
      }
    },
    {
      "cell_type": "code",
      "source": [
        "class Regression_model(nn.Module):\n",
        "  def __init__(self):\n",
        "    super().__init__()\n",
        "    self.weight=nn.Parameter(torch.randn(1,requires_grad=True,dtype=torch.float))\n",
        "    self.bias=nn.Parameter(torch.randn(1,requires_grad=True,dtype=torch.float))\n",
        "  def forward(self,x:torch.Tensor)->torch.Tensor:\n",
        "    return self.weight*x+self.bias"
      ],
      "metadata": {
        "id": "PgZ9ZW-hYOWI"
      },
      "execution_count": 7,
      "outputs": []
    },
    {
      "cell_type": "code",
      "source": [
        "torch.manual_seed(42)\n",
        "model_O=Regression_model()\n",
        "print(list(model_O.parameters()))\n",
        "print(model_O.state_dict())"
      ],
      "metadata": {
        "colab": {
          "base_uri": "https://localhost:8080/"
        },
        "id": "F7W6en2Ta-vA",
        "outputId": "ebff700c-726d-45fc-c86f-39c17c4f7581"
      },
      "execution_count": 8,
      "outputs": [
        {
          "output_type": "stream",
          "name": "stdout",
          "text": [
            "[Parameter containing:\n",
            "tensor([0.3367], requires_grad=True), Parameter containing:\n",
            "tensor([0.1288], requires_grad=True)]\n",
            "OrderedDict([('weight', tensor([0.3367])), ('bias', tensor([0.1288]))])\n"
          ]
        }
      ]
    },
    {
      "cell_type": "code",
      "source": [
        "## making predicitions using torch.inference_mode()"
      ],
      "metadata": {
        "id": "9gVUHbTfbnLB"
      },
      "execution_count": 9,
      "outputs": []
    },
    {
      "cell_type": "code",
      "source": [
        "with torch.inference_mode():\n",
        "  y_pred=model_O(x_test)\n",
        "# with torch.no_grad():\n",
        "#   y_pred=model_O(x_test)\n",
        "y_pred"
      ],
      "metadata": {
        "colab": {
          "base_uri": "https://localhost:8080/"
        },
        "id": "QpwvhVDWdchV",
        "outputId": "27dc2fe2-3a9e-4d19-f441-879eb993ce57"
      },
      "execution_count": 10,
      "outputs": [
        {
          "output_type": "execute_result",
          "data": {
            "text/plain": [
              "tensor([[0.6675],\n",
              "        [0.6843],\n",
              "        [0.7012],\n",
              "        [0.7180],\n",
              "        [0.7349],\n",
              "        [0.7517],\n",
              "        [0.7685],\n",
              "        [0.7854]])"
            ]
          },
          "metadata": {},
          "execution_count": 10
        }
      ]
    },
    {
      "cell_type": "code",
      "source": [
        "plot_predicitions(predictions=y_pred)  # we need to train our model the predictions values not close the y_test values"
      ],
      "metadata": {
        "colab": {
          "base_uri": "https://localhost:8080/",
          "height": 292
        },
        "id": "ilHbTv_Dd5VB",
        "outputId": "4780b263-6bee-48f5-81ae-4fba0eb35fcb"
      },
      "execution_count": 11,
      "outputs": [
        {
          "output_type": "display_data",
          "data": {
            "text/plain": [
              "<Figure size 400x300 with 1 Axes>"
            ],
            "image/png": "[encoded data removed]"
          },
          "metadata": {}
        }
      ]
    },
    {
      "cell_type": "code",
      "source": [
        "#setup the loss function\n",
        "loss_fn=nn.L1Loss() # torch.mean(torch.abs(y_pred-y_test))\n",
        "#setup optimizer\n",
        "optimizer=torch.optim.SGD(params=model_O.parameters(),lr=0.01) #lr-->learning rate\n",
        "# if small lr results in small changes,a large lr results in large changes"
      ],
      "metadata": {
        "id": "diBHxAkYBf5D"
      },
      "execution_count": 12,
      "outputs": []
    },
    {
      "cell_type": "code",
      "source": [
        "# Building a traning loop"
      ],
      "metadata": {
        "id": "_0-bPMw1G0Y2"
      },
      "execution_count": 13,
      "outputs": []
    },
    {
      "cell_type": "code",
      "source": [
        "torch.manual_seed(42)\n",
        "epochs=200\n",
        "e_cnt,l_values,t_l_values=[],[],[]\n",
        "for epoch in range(epochs):\n",
        "  model_O.train()\n",
        "  y_pred=model_O(x_train)\n",
        "  loss=loss_fn(y_pred,y_train)\n",
        "  optimizer.zero_grad()\n",
        "  loss.backward()\n",
        "  optimizer.step()\n",
        "  model_O.eval()\n",
        "  with torch.inference_mode():\n",
        "    test_pred=model_O(x_test)\n",
        "    test_loss=loss_fn(test_pred,y_test)\n",
        "  if epoch % 10==0:\n",
        "    e_cnt.append(epoch)\n",
        "    l_values.append(loss)\n",
        "    t_l_values.append(test_loss)\n",
        "    print(f\"Epoch: {epoch} | Loss: {loss} | Test loss: {test_loss}\")\n",
        "    print(model_O.state_dict())"
      ],
      "metadata": {
        "id": "hCpb1p6stfFv",
        "colab": {
          "base_uri": "https://localhost:8080/"
        },
        "outputId": "c84116bf-0872-49fb-a05b-03feee160f14"
      },
      "execution_count": 14,
      "outputs": [
        {
          "output_type": "stream",
          "name": "stdout",
          "text": [
            "Epoch: 0 | Loss: 0.4415055513381958 | Test loss: 0.8310589790344238\n",
            "OrderedDict([('weight', tensor([0.3444])), ('bias', tensor([0.1388]))])\n",
            "Epoch: 10 | Loss: 0.2814429998397827 | Test loss: 0.5934963226318359\n",
            "OrderedDict([('weight', tensor([0.4219])), ('bias', tensor([0.2388]))])\n",
            "Epoch: 20 | Loss: 0.14764326810836792 | Test loss: 0.375138521194458\n",
            "OrderedDict([('weight', tensor([0.4981])), ('bias', tensor([0.3219]))])\n",
            "Epoch: 30 | Loss: 0.08142808079719543 | Test loss: 0.21693091094493866\n",
            "OrderedDict([('weight', tensor([0.5633])), ('bias', tensor([0.3644]))])\n",
            "Epoch: 40 | Loss: 0.05861527472734451 | Test loss: 0.1319153755903244\n",
            "OrderedDict([('weight', tensor([0.6077])), ('bias', tensor([0.3707]))])\n",
            "Epoch: 50 | Loss: 0.048395104706287384 | Test loss: 0.09826965630054474\n",
            "OrderedDict([('weight', tensor([0.6351])), ('bias', tensor([0.3557]))])\n",
            "Epoch: 60 | Loss: 0.0391034334897995 | Test loss: 0.07598783075809479\n",
            "OrderedDict([('weight', tensor([0.6586])), ('bias', tensor([0.3363]))])\n",
            "Epoch: 70 | Loss: 0.02988649159669876 | Test loss: 0.05706377327442169\n",
            "OrderedDict([('weight', tensor([0.6808])), ('bias', tensor([0.3157]))])\n",
            "Epoch: 80 | Loss: 0.020665327087044716 | Test loss: 0.03981846570968628\n",
            "OrderedDict([('weight', tensor([0.7025])), ('bias', tensor([0.2944]))])\n",
            "Epoch: 90 | Loss: 0.01145491935312748 | Test loss: 0.020894378423690796\n",
            "OrderedDict([('weight', tensor([0.7248])), ('bias', tensor([0.2738]))])\n",
            "Epoch: 100 | Loss: 0.0024265991523861885 | Test loss: 0.009296029806137085\n",
            "OrderedDict([('weight', tensor([0.7444])), ('bias', tensor([0.2507]))])\n",
            "Epoch: 110 | Loss: 0.01038515754044056 | Test loss: 0.011337414383888245\n",
            "OrderedDict([('weight', tensor([0.7443])), ('bias', tensor([0.2488]))])\n",
            "Epoch: 120 | Loss: 0.01038515754044056 | Test loss: 0.011337414383888245\n",
            "OrderedDict([('weight', tensor([0.7443])), ('bias', tensor([0.2488]))])\n",
            "Epoch: 130 | Loss: 0.01038515754044056 | Test loss: 0.011337414383888245\n",
            "OrderedDict([('weight', tensor([0.7443])), ('bias', tensor([0.2488]))])\n",
            "Epoch: 140 | Loss: 0.01038515754044056 | Test loss: 0.011337414383888245\n",
            "OrderedDict([('weight', tensor([0.7443])), ('bias', tensor([0.2488]))])\n",
            "Epoch: 150 | Loss: 0.01038515754044056 | Test loss: 0.011337414383888245\n",
            "OrderedDict([('weight', tensor([0.7443])), ('bias', tensor([0.2488]))])\n",
            "Epoch: 160 | Loss: 0.01038515754044056 | Test loss: 0.011337414383888245\n",
            "OrderedDict([('weight', tensor([0.7443])), ('bias', tensor([0.2488]))])\n",
            "Epoch: 170 | Loss: 0.01038515754044056 | Test loss: 0.011337414383888245\n",
            "OrderedDict([('weight', tensor([0.7443])), ('bias', tensor([0.2488]))])\n",
            "Epoch: 180 | Loss: 0.01038515754044056 | Test loss: 0.011337414383888245\n",
            "OrderedDict([('weight', tensor([0.7443])), ('bias', tensor([0.2488]))])\n",
            "Epoch: 190 | Loss: 0.01038515754044056 | Test loss: 0.011337414383888245\n",
            "OrderedDict([('weight', tensor([0.7443])), ('bias', tensor([0.2488]))])\n"
          ]
        }
      ]
    },
    {
      "cell_type": "code",
      "source": [
        "with torch.inference_mode():\n",
        "  y_preds_new=model_O(x_test)"
      ],
      "metadata": {
        "id": "n-RimxB3wa-j"
      },
      "execution_count": 15,
      "outputs": []
    },
    {
      "cell_type": "code",
      "source": [
        "plot_predicitions(predictions=y_preds_new)"
      ],
      "metadata": {
        "colab": {
          "base_uri": "https://localhost:8080/",
          "height": 291
        },
        "id": "DGiUEeRkwC6y",
        "outputId": "802570f9-b81a-42ef-b9eb-e711034a07cf"
      },
      "execution_count": 16,
      "outputs": [
        {
          "output_type": "display_data",
          "data": {
            "text/plain": [
              "<Figure size 400x300 with 1 Axes>"
            ],
            "image/png": "[encoded data removed]"
          },
          "metadata": {}
        }
      ]
    },
    {
      "cell_type": "code",
      "source": [
        "from pathlib import Path\n",
        "model_path=Path(\"Models\")\n",
        "model_path.mkdir(parents=True,exist_ok=True)\n",
        "model_name=\"Pytorch_workflow\"\n",
        "model_save_path=model_path/model_name\n",
        "print(f\"Saving model to:{model_save_path}\")\n",
        "torch.save(obj=model_O.state_dict(),f=model_save_path)"
      ],
      "metadata": {
        "colab": {
          "base_uri": "https://localhost:8080/"
        },
        "id": "bYgbg66ywH5o",
        "outputId": "d73b8096-ec6e-4909-9301-baa21bc74ae3"
      },
      "execution_count": 17,
      "outputs": [
        {
          "output_type": "stream",
          "name": "stdout",
          "text": [
            "Saving model to:Models/Pytorch_workflow\n"
          ]
        }
      ]
    },
    {
      "cell_type": "code",
      "source": [
        "model_O.state_dict()"
      ],
      "metadata": {
        "colab": {
          "base_uri": "https://localhost:8080/"
        },
        "id": "V4Wrt00d7LDF",
        "outputId": "eddfd752-6d33-46d6-be5f-f0f987a4b3e7"
      },
      "execution_count": 18,
      "outputs": [
        {
          "output_type": "execute_result",
          "data": {
            "text/plain": [
              "OrderedDict([('weight', tensor([0.7520])), ('bias', tensor([0.2588]))])"
            ]
          },
          "metadata": {},
          "execution_count": 18
        }
      ]
    },
    {
      "cell_type": "code",
      "source": [
        "loaded_model_O=Regression_model()\n",
        "loaded_model_O.load_state_dict(torch.load(f=model_save_path))"
      ],
      "metadata": {
        "colab": {
          "base_uri": "https://localhost:8080/"
        },
        "id": "UdeE2SrE7Qwe",
        "outputId": "004371a9-2e2e-4daa-d1aa-4fb404ef9b09"
      },
      "execution_count": 19,
      "outputs": [
        {
          "output_type": "execute_result",
          "data": {
            "text/plain": [
              "<All keys matched successfully>"
            ]
          },
          "metadata": {},
          "execution_count": 19
        }
      ]
    },
    {
      "cell_type": "code",
      "source": [
        "loaded_model_O.eval()\n",
        "with torch.inference_mode():\n",
        "  loaded_model_preds=loaded_model_O(x_test)\n",
        "loaded_model_preds"
      ],
      "metadata": {
        "colab": {
          "base_uri": "https://localhost:8080/"
        },
        "id": "Gfambulu76CA",
        "outputId": "deb681e6-adde-498b-bf71-1e67c8a86a30"
      },
      "execution_count": 20,
      "outputs": [
        {
          "output_type": "execute_result",
          "data": {
            "text/plain": [
              "tensor([[1.4621],\n",
              "        [1.4997],\n",
              "        [1.5373],\n",
              "        [1.5749],\n",
              "        [1.6125],\n",
              "        [1.6501],\n",
              "        [1.6877],\n",
              "        [1.7253]])"
            ]
          },
          "metadata": {},
          "execution_count": 20
        }
      ]
    },
    {
      "cell_type": "code",
      "source": [
        "model_O.eval()\n",
        "with torch.inference_mode():\n",
        "  y_preds=model_O(x_test)\n",
        "y_preds"
      ],
      "metadata": {
        "colab": {
          "base_uri": "https://localhost:8080/"
        },
        "id": "eYolwEK09sh8",
        "outputId": "43cc9154-e91a-4198-a7ce-64ae6c018864"
      },
      "execution_count": 21,
      "outputs": [
        {
          "output_type": "execute_result",
          "data": {
            "text/plain": [
              "tensor([[1.4621],\n",
              "        [1.4997],\n",
              "        [1.5373],\n",
              "        [1.5749],\n",
              "        [1.6125],\n",
              "        [1.6501],\n",
              "        [1.6877],\n",
              "        [1.7253]])"
            ]
          },
          "metadata": {},
          "execution_count": 21
        }
      ]
    },
    {
      "cell_type": "code",
      "source": [
        "y_preds==loaded_model_preds"
      ],
      "metadata": {
        "colab": {
          "base_uri": "https://localhost:8080/"
        },
        "id": "FTjKqsiv-cOm",
        "outputId": "7ae2a68c-4a0b-49f0-99de-d71f6d408bc4"
      },
      "execution_count": 22,
      "outputs": [
        {
          "output_type": "execute_result",
          "data": {
            "text/plain": [
              "tensor([[True],\n",
              "        [True],\n",
              "        [True],\n",
              "        [True],\n",
              "        [True],\n",
              "        [True],\n",
              "        [True],\n",
              "        [True]])"
            ]
          },
          "metadata": {},
          "execution_count": 22
        }
      ]
    }
  ]
}