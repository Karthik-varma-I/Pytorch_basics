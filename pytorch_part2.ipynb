{
  "nbformat": 4,
  "nbformat_minor": 0,
  "metadata": {
    "colab": {
      "provenance": [],
      "authorship_tag": "ABX9TyOHYt9WwPEN+Rm/aDHOkwor",
      "include_colab_link": true
    },
    "kernelspec": {
      "name": "python3",
      "display_name": "Python 3"
    },
    "language_info": {
      "name": "python"
    }
  },
  "cells": [
    {
      "cell_type": "markdown",
      "metadata": {
        "id": "view-in-github",
        "colab_type": "text"
      },
      "source": [
        "<a href=\"https://colab.research.google.com/github/Karthik-varma-I/Pytorch_basics/blob/main/pytorch_part2.ipynb\" target=\"_parent\"><img src=\"https://colab.research.google.com/assets/colab-badge.svg\" alt=\"Open In Colab\"/></a>"
      ]
    },
    {
      "cell_type": "markdown",
      "source": [
        "#Aggregation functions"
      ],
      "metadata": {
        "id": "IiKLMchY7c4n"
      }
    },
    {
      "cell_type": "code",
      "source": [
        "import torch"
      ],
      "metadata": {
        "id": "bPaSRaTv7nIQ"
      },
      "execution_count": null,
      "outputs": []
    },
    {
      "cell_type": "code",
      "source": [
        "ten1=torch.tensor([1, 2,3,4,5,6,7])"
      ],
      "metadata": {
        "id": "_7hMl7507zdV"
      },
      "execution_count": null,
      "outputs": []
    },
    {
      "cell_type": "code",
      "source": [
        "#min\n",
        "print(ten1.min())\n",
        "print(torch.min(ten1))"
      ],
      "metadata": {
        "colab": {
          "base_uri": "https://localhost:8080/"
        },
        "id": "FzoT_2b98D3f",
        "outputId": "62074121-c702-4394-f488-13188c6d19b7"
      },
      "execution_count": null,
      "outputs": [
        {
          "output_type": "stream",
          "name": "stdout",
          "text": [
            "tensor(1)\n",
            "tensor(1)\n"
          ]
        }
      ]
    },
    {
      "cell_type": "code",
      "source": [
        "#max\n",
        "print(ten1.max())\n",
        "print(torch.max(ten1))"
      ],
      "metadata": {
        "colab": {
          "base_uri": "https://localhost:8080/"
        },
        "id": "guS8CROd8WGi",
        "outputId": "f96b632b-19c2-4650-db6e-e14de63b3601"
      },
      "execution_count": null,
      "outputs": [
        {
          "output_type": "stream",
          "name": "stdout",
          "text": [
            "tensor(7)\n",
            "tensor(7)\n"
          ]
        }
      ]
    },
    {
      "cell_type": "code",
      "source": [
        "#mean\n",
        "print(ten1.type(torch.float32).mean())\n",
        "print(torch.mean(ten1.type(torch.float32)))"
      ],
      "metadata": {
        "colab": {
          "base_uri": "https://localhost:8080/"
        },
        "id": "IM2j4ALb83Jf",
        "outputId": "76e10a1b-eb19-4a7a-bb7d-e025fbe2ce9b"
      },
      "execution_count": null,
      "outputs": [
        {
          "output_type": "stream",
          "name": "stdout",
          "text": [
            "tensor(4.)\n",
            "tensor(4.)\n"
          ]
        }
      ]
    },
    {
      "cell_type": "code",
      "source": [
        "#sum\n",
        "print(ten1.sum())\n",
        "print(torch.sum(ten1))"
      ],
      "metadata": {
        "colab": {
          "base_uri": "https://localhost:8080/"
        },
        "id": "At6ibSfr9hDh",
        "outputId": "5047b472-1245-45a1-dad1-445842d6354f"
      },
      "execution_count": null,
      "outputs": [
        {
          "output_type": "stream",
          "name": "stdout",
          "text": [
            "tensor(28)\n",
            "tensor(28)\n"
          ]
        }
      ]
    },
    {
      "cell_type": "markdown",
      "source": [
        "#position of min and max"
      ],
      "metadata": {
        "id": "Mf_djz6D-jha"
      }
    },
    {
      "cell_type": "code",
      "source": [
        "#min\n",
        "ten1.argmin()"
      ],
      "metadata": {
        "colab": {
          "base_uri": "https://localhost:8080/"
        },
        "id": "wQnmwX_w-ueG",
        "outputId": "4ca766aa-c1ad-4cd6-ade5-414e3f75edd1"
      },
      "execution_count": null,
      "outputs": [
        {
          "output_type": "execute_result",
          "data": {
            "text/plain": [
              "tensor(0)"
            ]
          },
          "metadata": {},
          "execution_count": 7
        }
      ]
    },
    {
      "cell_type": "code",
      "source": [
        "#max\n",
        "ten1.argmax()"
      ],
      "metadata": {
        "colab": {
          "base_uri": "https://localhost:8080/"
        },
        "id": "qBQQPZ10-3pt",
        "outputId": "23878f28-039f-47fa-ccb5-f0dee1f69f2f"
      },
      "execution_count": null,
      "outputs": [
        {
          "output_type": "execute_result",
          "data": {
            "text/plain": [
              "tensor(6)"
            ]
          },
          "metadata": {},
          "execution_count": 8
        }
      ]
    },
    {
      "cell_type": "markdown",
      "source": [
        "#Reshaping, squeezing, unsqueezing and stacking tensors\n",
        "\n",
        "* reshaping-reshapes the tensor into defined shape.\n",
        "* view-return a view of an input tensor of certain shape but keep the same memory as the original tensor.\n",
        "* stacking-combines multiple tensors on the top of each other(vstack) or side by side(hstack).\n",
        "* squeeze-removes all 1 dimensions from tensor.\n",
        "* unsqueeze-add 1 dimension to a targed tensor.\n",
        "* permute-return a view of inputwith dimensions permuted(swapped) in a certain way."
      ],
      "metadata": {
        "id": "VFUpFkWQPSnq"
      }
    },
    {
      "cell_type": "code",
      "source": [
        "import torch\n",
        "ten1=torch.arange(1.,10.)\n",
        "ten1,ten1.shape"
      ],
      "metadata": {
        "id": "wXwE47zf--N3",
        "colab": {
          "base_uri": "https://localhost:8080/"
        },
        "outputId": "6c36f289-a0f7-45d5-d086-91ba147c6eac"
      },
      "execution_count": 1,
      "outputs": [
        {
          "output_type": "execute_result",
          "data": {
            "text/plain": [
              "(tensor([1., 2., 3., 4., 5., 6., 7., 8., 9.]), torch.Size([9]))"
            ]
          },
          "metadata": {},
          "execution_count": 1
        }
      ]
    },
    {
      "cell_type": "code",
      "source": [
        "#reshape\n",
        "ten2=ten1.reshape(3,3)\n",
        "ten2"
      ],
      "metadata": {
        "colab": {
          "base_uri": "https://localhost:8080/"
        },
        "id": "oLE1IB6ZR6jZ",
        "outputId": "c8a2c8b6-ff12-42fd-d158-6147260ed6a0"
      },
      "execution_count": 4,
      "outputs": [
        {
          "output_type": "execute_result",
          "data": {
            "text/plain": [
              "tensor([[1., 2., 3.],\n",
              "        [4., 5., 6.],\n",
              "        [7., 8., 9.]])"
            ]
          },
          "metadata": {},
          "execution_count": 4
        }
      ]
    },
    {
      "cell_type": "code",
      "source": [
        "#change the view\n",
        "a=ten2.view(3,3)\n",
        "a"
      ],
      "metadata": {
        "colab": {
          "base_uri": "https://localhost:8080/"
        },
        "id": "_oFq9W-ZSMFI",
        "outputId": "a048817c-7e0d-4209-9d09-ef2238c78abf"
      },
      "execution_count": 13,
      "outputs": [
        {
          "output_type": "execute_result",
          "data": {
            "text/plain": [
              "tensor([[1., 2., 3.],\n",
              "        [4., 5., 6.],\n",
              "        [7., 8., 9.]])"
            ]
          },
          "metadata": {},
          "execution_count": 13
        }
      ]
    },
    {
      "cell_type": "code",
      "source": [
        "a[:,0]=123\n",
        "a,ten2,ten1"
      ],
      "metadata": {
        "colab": {
          "base_uri": "https://localhost:8080/"
        },
        "id": "hAMlzEwrSlQa",
        "outputId": "c69f909c-ef76-44a8-a7ec-586ba2f53696"
      },
      "execution_count": 19,
      "outputs": [
        {
          "output_type": "execute_result",
          "data": {
            "text/plain": [
              "(tensor([[123.,   2.,   3.],\n",
              "         [123.,   5.,   6.],\n",
              "         [123.,   8.,   9.]]),\n",
              " tensor([[123.,   2.,   3.],\n",
              "         [123.,   5.,   6.],\n",
              "         [123.,   8.,   9.]]),\n",
              " tensor([123.,   2.,   3., 123.,   5.,   6., 123.,   8.,   9.]))"
            ]
          },
          "metadata": {},
          "execution_count": 19
        }
      ]
    },
    {
      "cell_type": "code",
      "source": [
        "b=torch.stack([ten1,ten1,ten1],dim=0)#hstack\n",
        "c=torch.stack([ten1,ten1],dim=1)#vstack\n",
        "b,c"
      ],
      "metadata": {
        "colab": {
          "base_uri": "https://localhost:8080/"
        },
        "id": "aGucomhTTCaJ",
        "outputId": "ec3f23cf-578d-4e2f-c884-b52ce688c5e1"
      },
      "execution_count": 18,
      "outputs": [
        {
          "output_type": "execute_result",
          "data": {
            "text/plain": [
              "(tensor([[123.,   2.,   3., 123.,   5.,   6., 123.,   8.,   9.],\n",
              "         [123.,   2.,   3., 123.,   5.,   6., 123.,   8.,   9.],\n",
              "         [123.,   2.,   3., 123.,   5.,   6., 123.,   8.,   9.]]),\n",
              " tensor([[123., 123.],\n",
              "         [  2.,   2.],\n",
              "         [  3.,   3.],\n",
              "         [123., 123.],\n",
              "         [  5.,   5.],\n",
              "         [  6.,   6.],\n",
              "         [123., 123.],\n",
              "         [  8.,   8.],\n",
              "         [  9.,   9.]]))"
            ]
          },
          "metadata": {},
          "execution_count": 18
        }
      ]
    },
    {
      "cell_type": "code",
      "source": [
        "ten3=torch.tensor([[1,2,3]])\n",
        "ten3,ten3.shape"
      ],
      "metadata": {
        "colab": {
          "base_uri": "https://localhost:8080/"
        },
        "id": "srPGYX1DT353",
        "outputId": "52fbbf23-4695-42eb-8cbd-7d1377781e05"
      },
      "execution_count": 21,
      "outputs": [
        {
          "output_type": "execute_result",
          "data": {
            "text/plain": [
              "(tensor([[1, 2, 3]]), torch.Size([1, 3]))"
            ]
          },
          "metadata": {},
          "execution_count": 21
        }
      ]
    },
    {
      "cell_type": "code",
      "source": [
        "#squeeze\n",
        "ten4=ten3.squeeze()\n",
        "print(ten3,ten3.shape)\n",
        "print(\"\\n\")\n",
        "ten4,ten4.shape"
      ],
      "metadata": {
        "colab": {
          "base_uri": "https://localhost:8080/"
        },
        "id": "JYlpiSxsVavf",
        "outputId": "27fbf694-13fb-49a6-9ef4-1fa2f119a781"
      },
      "execution_count": 23,
      "outputs": [
        {
          "output_type": "stream",
          "name": "stdout",
          "text": [
            "tensor([[1, 2, 3]]) torch.Size([1, 3])\n",
            "\n",
            "\n"
          ]
        },
        {
          "output_type": "execute_result",
          "data": {
            "text/plain": [
              "(tensor([1, 2, 3]), torch.Size([3]))"
            ]
          },
          "metadata": {},
          "execution_count": 23
        }
      ]
    },
    {
      "cell_type": "code",
      "source": [
        "#unsqueeze\n",
        "ten5=ten3.unsqueeze(dim=0)#dim=0\n",
        "ten6=ten4.unsqueeze(dim=1)#dim=1\n",
        "ten7=ten6.unsqueeze(dim=1)#dim=1\n",
        "print(ten3,ten3.shape)\n",
        "print(\"\\n\")\n",
        "print(ten5,ten5.shape)\n",
        "print(ten6,ten6.shape)\n",
        "ten7,ten7.shape"
      ],
      "metadata": {
        "colab": {
          "base_uri": "https://localhost:8080/"
        },
        "id": "nEmJEeifVz_H",
        "outputId": "bf8d1708-16ab-4b66-8c49-03f7183e323b"
      },
      "execution_count": 28,
      "outputs": [
        {
          "output_type": "stream",
          "name": "stdout",
          "text": [
            "tensor([[1, 2, 3]]) torch.Size([1, 3])\n",
            "\n",
            "\n",
            "tensor([[[1, 2, 3]]]) torch.Size([1, 1, 3])\n",
            "tensor([[1],\n",
            "        [2],\n",
            "        [3]]) torch.Size([3, 1])\n"
          ]
        },
        {
          "output_type": "execute_result",
          "data": {
            "text/plain": [
              "(tensor([[[1]],\n",
              " \n",
              "         [[2]],\n",
              " \n",
              "         [[3]]]),\n",
              " torch.Size([3, 1, 1]))"
            ]
          },
          "metadata": {},
          "execution_count": 28
        }
      ]
    },
    {
      "cell_type": "code",
      "source": [
        "ten8=torch.rand(2,3,4)\n",
        "print(ten8,ten8.shape)\n",
        "ten9=ten8.permute(2,0,1)\n",
        "ten9,ten9.shape"
      ],
      "metadata": {
        "colab": {
          "base_uri": "https://localhost:8080/"
        },
        "id": "ktzIM-fGWI7n",
        "outputId": "1848ee84-b793-45ff-b20f-c20f85f5f0bb"
      },
      "execution_count": 30,
      "outputs": [
        {
          "output_type": "stream",
          "name": "stdout",
          "text": [
            "tensor([[[0.0409, 0.2987, 0.0317, 0.9924],\n",
            "         [0.7153, 0.4281, 0.2127, 0.8718],\n",
            "         [0.2656, 0.0339, 0.5178, 0.4048]],\n",
            "\n",
            "        [[0.8605, 0.9177, 0.5609, 0.2436],\n",
            "         [0.1290, 0.4902, 0.6997, 0.5756],\n",
            "         [0.6149, 0.4403, 0.9692, 0.2573]]]) torch.Size([2, 3, 4])\n"
          ]
        },
        {
          "output_type": "execute_result",
          "data": {
            "text/plain": [
              "(tensor([[[0.0409, 0.7153, 0.2656],\n",
              "          [0.8605, 0.1290, 0.6149]],\n",
              " \n",
              "         [[0.2987, 0.4281, 0.0339],\n",
              "          [0.9177, 0.4902, 0.4403]],\n",
              " \n",
              "         [[0.0317, 0.2127, 0.5178],\n",
              "          [0.5609, 0.6997, 0.9692]],\n",
              " \n",
              "         [[0.9924, 0.8718, 0.4048],\n",
              "          [0.2436, 0.5756, 0.2573]]]),\n",
              " torch.Size([4, 2, 3]))"
            ]
          },
          "metadata": {},
          "execution_count": 30
        }
      ]
    },
    {
      "cell_type": "markdown",
      "source": [
        "#pytorch and numpy\n",
        "* numpy-> pytorch tensor = torch.from_numpy(nparray)\n",
        "*pytorch tensor -> numpy =torch.Tensor.numpy()."
      ],
      "metadata": {
        "id": "uWODlMlPZoCO"
      }
    },
    {
      "cell_type": "code",
      "source": [
        "import numpy as np\n",
        "arr=np.arange(1.,10.)\n",
        "ten1=torch.from_numpy(arr)\n",
        "print(ten1)\n",
        "arr+=1\n",
        "print(arr,ten1)\n",
        "arr=arr+1\n",
        "print(arr,ten1)\n",
        "arr[0]=10\n",
        "print(arr,ten1)"
      ],
      "metadata": {
        "colab": {
          "base_uri": "https://localhost:8080/"
        },
        "id": "ZZMCKnYSXpWG",
        "outputId": "b96cd27a-40e7-411d-f90c-b1a600a2507c"
      },
      "execution_count": 37,
      "outputs": [
        {
          "output_type": "stream",
          "name": "stdout",
          "text": [
            "tensor([1., 2., 3., 4., 5., 6., 7., 8., 9.], dtype=torch.float64)\n",
            "[ 2.  3.  4.  5.  6.  7.  8.  9. 10.] tensor([ 2.,  3.,  4.,  5.,  6.,  7.,  8.,  9., 10.], dtype=torch.float64)\n",
            "[ 3.  4.  5.  6.  7.  8.  9. 10. 11.] tensor([ 2.,  3.,  4.,  5.,  6.,  7.,  8.,  9., 10.], dtype=torch.float64)\n",
            "[10.  4.  5.  6.  7.  8.  9. 10. 11.] tensor([ 2.,  3.,  4.,  5.,  6.,  7.,  8.,  9., 10.], dtype=torch.float64)\n"
          ]
        }
      ]
    },
    {
      "cell_type": "code",
      "source": [
        "ten2=torch.arange(9.)\n",
        "arr=ten2.numpy()\n",
        "ten2,arr"
      ],
      "metadata": {
        "colab": {
          "base_uri": "https://localhost:8080/"
        },
        "id": "LRjRcmDza191",
        "outputId": "3f98304d-da98-42b8-b8ca-c6e3d3556431"
      },
      "execution_count": 39,
      "outputs": [
        {
          "output_type": "execute_result",
          "data": {
            "text/plain": [
              "(tensor([0., 1., 2., 3., 4., 5., 6., 7., 8.]),\n",
              " array([0., 1., 2., 3., 4., 5., 6., 7., 8.], dtype=float32))"
            ]
          },
          "metadata": {},
          "execution_count": 39
        }
      ]
    },
    {
      "cell_type": "markdown",
      "source": [
        "#Reproducibility"
      ],
      "metadata": {
        "id": "_5EfFUeudQbu"
      }
    },
    {
      "cell_type": "code",
      "source": [
        "torch.manual_seed(111)\n",
        "ten1=torch.rand(1,4)\n",
        "ten2=torch.rand(1,4)\n",
        "print(ten1,ten2)\n",
        "print(ten1==ten2)\n",
        "torch.manual_seed(111)\n",
        "ten3=torch.rand(1,4)\n",
        "print(ten3)\n",
        "print(ten1==ten3)"
      ],
      "metadata": {
        "colab": {
          "base_uri": "https://localhost:8080/"
        },
        "id": "xUBR0fiRcDQt",
        "outputId": "517aecac-7341-4651-da07-283d3af993aa"
      },
      "execution_count": 40,
      "outputs": [
        {
          "output_type": "stream",
          "name": "stdout",
          "text": [
            "tensor([[0.7156, 0.9140, 0.2819, 0.2581]]) tensor([[0.6311, 0.6001, 0.9312, 0.2153]])\n",
            "tensor([[False, False, False, False]])\n",
            "tensor([[0.7156, 0.9140, 0.2819, 0.2581]])\n",
            "tensor([[True, True, True, True]])\n"
          ]
        }
      ]
    },
    {
      "cell_type": "code",
      "source": [
        "torch.manual_seed(111)\n",
        "ten4=torch.rand(1,5)\n",
        "ten4"
      ],
      "metadata": {
        "colab": {
          "base_uri": "https://localhost:8080/"
        },
        "id": "23qyYgUqd4ws",
        "outputId": "c7334db1-e66e-4df5-d564-945f175c42f9"
      },
      "execution_count": 41,
      "outputs": [
        {
          "output_type": "execute_result",
          "data": {
            "text/plain": [
              "tensor([[0.7156, 0.9140, 0.2819, 0.2581, 0.6311]])"
            ]
          },
          "metadata": {},
          "execution_count": 41
        }
      ]
    }
  ]
}