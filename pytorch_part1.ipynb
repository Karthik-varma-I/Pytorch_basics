{
  "nbformat": 4,
  "nbformat_minor": 0,
  "metadata": {
    "colab": {
      "provenance": [],
      "authorship_tag": "ABX9TyPsTJobNa0SwvVOHbabis5M",
      "include_colab_link": true
    },
    "kernelspec": {
      "name": "python3",
      "display_name": "Python 3"
    },
    "language_info": {
      "name": "python"
    }
  },
  "cells": [
    {
      "cell_type": "markdown",
      "metadata": {
        "id": "view-in-github",
        "colab_type": "text"
      },
      "source": [
        "<a href=\"https://colab.research.google.com/github/Karthik-varma-I/Pytorch_basics/blob/main/pytorch_part1.ipynb\" target=\"_parent\"><img src=\"https://colab.research.google.com/assets/colab-badge.svg\" alt=\"Open In Colab\"/></a>"
      ]
    },
    {
      "cell_type": "markdown",
      "source": [],
      "metadata": {
        "id": "GZyxgAen_-V9"
      }
    },
    {
      "cell_type": "code",
      "execution_count": 6,
      "metadata": {
        "colab": {
          "base_uri": "https://localhost:8080/"
        },
        "id": "mPoMON898sIH",
        "outputId": "13623c13-911d-4b6a-c73a-8fc2448694ed"
      },
      "outputs": [
        {
          "output_type": "stream",
          "name": "stdout",
          "text": [
            "2.1.0+cu121\n"
          ]
        }
      ],
      "source": [
        "import torch\n",
        "import pandas as pd\n",
        "import numpy as np\n",
        "import matplotlib.pyplot as plt\n",
        "print(torch.__version__)"
      ]
    },
    {
      "cell_type": "markdown",
      "source": [
        "#Introduction to tensors"
      ],
      "metadata": {
        "id": "lVLTfYwlAC42"
      }
    },
    {
      "cell_type": "code",
      "source": [
        "# Tensors are created Using torch.tensor()\n",
        "zeroD=torch.tensor(10)\n",
        "zeroD"
      ],
      "metadata": {
        "colab": {
          "base_uri": "https://localhost:8080/"
        },
        "id": "7xTXSDwSADqr",
        "outputId": "95662e38-1439-4917-bd2e-d509f32e5771"
      },
      "execution_count": 7,
      "outputs": [
        {
          "output_type": "execute_result",
          "data": {
            "text/plain": [
              "tensor(10)"
            ]
          },
          "metadata": {},
          "execution_count": 7
        }
      ]
    },
    {
      "cell_type": "code",
      "source": [
        "print(zeroD.ndim) #0D\n",
        "print(zeroD.shape)"
      ],
      "metadata": {
        "colab": {
          "base_uri": "https://localhost:8080/"
        },
        "id": "XUNGpqeMAkjV",
        "outputId": "766e10ed-824e-4422-d787-53041fa62b27"
      },
      "execution_count": 8,
      "outputs": [
        {
          "output_type": "stream",
          "name": "stdout",
          "text": [
            "0\n",
            "torch.Size([])\n"
          ]
        }
      ]
    },
    {
      "cell_type": "code",
      "source": [
        "zeroD.item()"
      ],
      "metadata": {
        "colab": {
          "base_uri": "https://localhost:8080/"
        },
        "id": "9A8vX9V1BWKS",
        "outputId": "1c811a49-0706-4e08-d37b-f7492fe991d9"
      },
      "execution_count": 9,
      "outputs": [
        {
          "output_type": "execute_result",
          "data": {
            "text/plain": [
              "10"
            ]
          },
          "metadata": {},
          "execution_count": 9
        }
      ]
    },
    {
      "cell_type": "code",
      "source": [
        "oneD=torch.tensor([1,2,3]) #1D\n",
        "oneD"
      ],
      "metadata": {
        "colab": {
          "base_uri": "https://localhost:8080/"
        },
        "id": "L9P8IQtKBaVr",
        "outputId": "0e572e88-0371-403a-b845-5a87fcfb5e36"
      },
      "execution_count": 10,
      "outputs": [
        {
          "output_type": "execute_result",
          "data": {
            "text/plain": [
              "tensor([1, 2, 3])"
            ]
          },
          "metadata": {},
          "execution_count": 10
        }
      ]
    },
    {
      "cell_type": "code",
      "source": [
        "oneD.ndim"
      ],
      "metadata": {
        "colab": {
          "base_uri": "https://localhost:8080/"
        },
        "id": "mvsdFMzxBmbL",
        "outputId": "04deb6e4-686b-46ef-ad0a-f5c1ccae4913"
      },
      "execution_count": 11,
      "outputs": [
        {
          "output_type": "execute_result",
          "data": {
            "text/plain": [
              "1"
            ]
          },
          "metadata": {},
          "execution_count": 11
        }
      ]
    },
    {
      "cell_type": "code",
      "source": [
        "oneD.shape"
      ],
      "metadata": {
        "colab": {
          "base_uri": "https://localhost:8080/"
        },
        "id": "JumIqbuQBozw",
        "outputId": "901c1389-d95a-4d8b-d5b9-e90e02309571"
      },
      "execution_count": 12,
      "outputs": [
        {
          "output_type": "execute_result",
          "data": {
            "text/plain": [
              "torch.Size([3])"
            ]
          },
          "metadata": {},
          "execution_count": 12
        }
      ]
    },
    {
      "cell_type": "code",
      "source": [
        "twoD=torch.tensor([[1,2,3],[4,5,6]]) #2D\n",
        "twoD"
      ],
      "metadata": {
        "colab": {
          "base_uri": "https://localhost:8080/"
        },
        "id": "x1mfEihOBsF3",
        "outputId": "11a00707-52c9-47c4-de56-0637f81f8b9d"
      },
      "execution_count": 13,
      "outputs": [
        {
          "output_type": "execute_result",
          "data": {
            "text/plain": [
              "tensor([[1, 2, 3],\n",
              "        [4, 5, 6]])"
            ]
          },
          "metadata": {},
          "execution_count": 13
        }
      ]
    },
    {
      "cell_type": "code",
      "source": [
        "print(twoD.ndim)\n",
        "print(twoD.shape)"
      ],
      "metadata": {
        "colab": {
          "base_uri": "https://localhost:8080/"
        },
        "id": "KDxa9IopB1Kf",
        "outputId": "0fa765c8-8ec1-4d12-b28b-6d51c5d14b36"
      },
      "execution_count": 14,
      "outputs": [
        {
          "output_type": "stream",
          "name": "stdout",
          "text": [
            "2\n",
            "torch.Size([2, 3])\n"
          ]
        }
      ]
    },
    {
      "cell_type": "code",
      "source": [
        "print(twoD[1])\n",
        "print(twoD[1,2])"
      ],
      "metadata": {
        "colab": {
          "base_uri": "https://localhost:8080/"
        },
        "id": "BrjAPSMoB8Cz",
        "outputId": "87adaaca-983d-43ef-d717-4e5d61922c54"
      },
      "execution_count": 15,
      "outputs": [
        {
          "output_type": "stream",
          "name": "stdout",
          "text": [
            "tensor([4, 5, 6])\n",
            "tensor(6)\n"
          ]
        }
      ]
    },
    {
      "cell_type": "code",
      "source": [
        "tensor1=torch.tensor([[[1,2,3],[4,5,6]],[[7,8,9],[11,12,13]]]) #multi dimensional\n",
        "tensor1"
      ],
      "metadata": {
        "colab": {
          "base_uri": "https://localhost:8080/"
        },
        "id": "QtPqDya4CYEj",
        "outputId": "9fdeecc3-1410-4a41-bb47-ec4d86e28556"
      },
      "execution_count": 16,
      "outputs": [
        {
          "output_type": "execute_result",
          "data": {
            "text/plain": [
              "tensor([[[ 1,  2,  3],\n",
              "         [ 4,  5,  6]],\n",
              "\n",
              "        [[ 7,  8,  9],\n",
              "         [11, 12, 13]]])"
            ]
          },
          "metadata": {},
          "execution_count": 16
        }
      ]
    },
    {
      "cell_type": "code",
      "source": [
        "print(tensor1.ndim)\n",
        "print(tensor1.shape)"
      ],
      "metadata": {
        "colab": {
          "base_uri": "https://localhost:8080/"
        },
        "id": "8g8Ev0TFDLvS",
        "outputId": "0a402eea-6279-4f44-f8d9-a1b8b539955d"
      },
      "execution_count": 17,
      "outputs": [
        {
          "output_type": "stream",
          "name": "stdout",
          "text": [
            "3\n",
            "torch.Size([2, 2, 3])\n"
          ]
        }
      ]
    },
    {
      "cell_type": "code",
      "source": [
        "print(tensor1[1,1,0]) #11"
      ],
      "metadata": {
        "colab": {
          "base_uri": "https://localhost:8080/"
        },
        "id": "gmk7YxS1DU97",
        "outputId": "20ce63fa-ed92-404e-c512-8e58c98c5feb"
      },
      "execution_count": 18,
      "outputs": [
        {
          "output_type": "stream",
          "name": "stdout",
          "text": [
            "tensor(11)\n"
          ]
        }
      ]
    },
    {
      "cell_type": "markdown",
      "source": [
        "#Random Tensors"
      ],
      "metadata": {
        "id": "w7QxsQfqEvpj"
      }
    },
    {
      "cell_type": "code",
      "source": [
        "rand_tensor=torch.rand(2,2,2)\n",
        "rand_tensor"
      ],
      "metadata": {
        "colab": {
          "base_uri": "https://localhost:8080/"
        },
        "id": "O9NeZveLDnwi",
        "outputId": "c92eaf5a-dc5e-4a6e-bc6b-22d7d77947d0"
      },
      "execution_count": 19,
      "outputs": [
        {
          "output_type": "execute_result",
          "data": {
            "text/plain": [
              "tensor([[[0.6165, 0.5547],\n",
              "         [0.7162, 0.8747]],\n",
              "\n",
              "        [[0.2810, 0.8629],\n",
              "         [0.3641, 0.3583]]])"
            ]
          },
          "metadata": {},
          "execution_count": 19
        }
      ]
    },
    {
      "cell_type": "markdown",
      "source": [
        "Zeros and Ones"
      ],
      "metadata": {
        "id": "MfjKCmdjG9WC"
      }
    },
    {
      "cell_type": "code",
      "source": [
        "zero_tensor=torch.zeros(size=(2,3))\n",
        "zero_tensor"
      ],
      "metadata": {
        "colab": {
          "base_uri": "https://localhost:8080/"
        },
        "id": "fWyxePRnFm9S",
        "outputId": "c4e26e08-ffce-4660-bb8b-d6740094a01b"
      },
      "execution_count": 20,
      "outputs": [
        {
          "output_type": "execute_result",
          "data": {
            "text/plain": [
              "tensor([[0., 0., 0.],\n",
              "        [0., 0., 0.]])"
            ]
          },
          "metadata": {},
          "execution_count": 20
        }
      ]
    },
    {
      "cell_type": "code",
      "source": [
        "one_tensor=torch.ones(2,3)\n",
        "one_tensor"
      ],
      "metadata": {
        "colab": {
          "base_uri": "https://localhost:8080/"
        },
        "id": "YAIRo6UmHKF5",
        "outputId": "4bdc9c61-9436-4bcd-f570-90ef2c640e8b"
      },
      "execution_count": 21,
      "outputs": [
        {
          "output_type": "execute_result",
          "data": {
            "text/plain": [
              "tensor([[1., 1., 1.],\n",
              "        [1., 1., 1.]])"
            ]
          },
          "metadata": {},
          "execution_count": 21
        }
      ]
    },
    {
      "cell_type": "markdown",
      "source": [
        "#Creating a range of tensors and tensors-like"
      ],
      "metadata": {
        "id": "L36IOEwmHsGs"
      }
    },
    {
      "cell_type": "code",
      "source": [
        "tensor_range=torch.arange(1,6)\n",
        "tensor_range"
      ],
      "metadata": {
        "colab": {
          "base_uri": "https://localhost:8080/"
        },
        "id": "PG9xYtLlHR75",
        "outputId": "1e2ea279-d68b-4187-b4f1-f156e98a1996"
      },
      "execution_count": 22,
      "outputs": [
        {
          "output_type": "execute_result",
          "data": {
            "text/plain": [
              "tensor([1, 2, 3, 4, 5])"
            ]
          },
          "metadata": {},
          "execution_count": 22
        }
      ]
    },
    {
      "cell_type": "code",
      "source": [
        "zero_tensor1=torch.zeros_like(tensor_range)\n",
        "zero_tensor1"
      ],
      "metadata": {
        "colab": {
          "base_uri": "https://localhost:8080/"
        },
        "id": "brSuzDx3ITk4",
        "outputId": "83fd9ac2-43c6-4703-ed1f-5643e2586e14"
      },
      "execution_count": 23,
      "outputs": [
        {
          "output_type": "execute_result",
          "data": {
            "text/plain": [
              "tensor([0, 0, 0, 0, 0])"
            ]
          },
          "metadata": {},
          "execution_count": 23
        }
      ]
    },
    {
      "cell_type": "markdown",
      "source": [
        "#Tensor Datatypes"
      ],
      "metadata": {
        "id": "YDYrMH1vQRoY"
      }
    },
    {
      "cell_type": "code",
      "source": [
        "d_type=torch.tensor([1,2,3],\n",
        "             dtype=None, #data type of tensor.\n",
        "             device=None, #what device is your tensor on.\n",
        "             requires_grad=False #whether or not to track with this tensor operations\n",
        "             )\n",
        "d_type"
      ],
      "metadata": {
        "colab": {
          "base_uri": "https://localhost:8080/"
        },
        "id": "-6Pa9SnSTDYi",
        "outputId": "cba6ea45-62c9-4e7d-9d44-566f71604b87"
      },
      "execution_count": 24,
      "outputs": [
        {
          "output_type": "execute_result",
          "data": {
            "text/plain": [
              "tensor([1, 2, 3])"
            ]
          },
          "metadata": {},
          "execution_count": 24
        }
      ]
    },
    {
      "cell_type": "code",
      "source": [
        "ten1=torch.tensor([1,2,3],dtype=torch.float16)\n",
        "ten1"
      ],
      "metadata": {
        "colab": {
          "base_uri": "https://localhost:8080/"
        },
        "id": "U7lT5O0ZIhvY",
        "outputId": "316dea79-de11-407f-f6f3-0160cec8d7d9"
      },
      "execution_count": 25,
      "outputs": [
        {
          "output_type": "execute_result",
          "data": {
            "text/plain": [
              "tensor([1., 2., 3.], dtype=torch.float16)"
            ]
          },
          "metadata": {},
          "execution_count": 25
        }
      ]
    },
    {
      "cell_type": "code",
      "source": [
        "ten2=torch.tensor([1,2,3],dtype=torch.int32)\n",
        "ten2"
      ],
      "metadata": {
        "colab": {
          "base_uri": "https://localhost:8080/"
        },
        "id": "GhLstfoQQu92",
        "outputId": "e5c0a6e9-cf08-4832-ab9c-78ca4af14820"
      },
      "execution_count": 26,
      "outputs": [
        {
          "output_type": "execute_result",
          "data": {
            "text/plain": [
              "tensor([1, 2, 3], dtype=torch.int32)"
            ]
          },
          "metadata": {},
          "execution_count": 26
        }
      ]
    },
    {
      "cell_type": "code",
      "source": [
        "ten2=torch.rand([2,3])\n",
        "print(ten2)"
      ],
      "metadata": {
        "colab": {
          "base_uri": "https://localhost:8080/"
        },
        "id": "h_s5Ip43RBIO",
        "outputId": "2d70e460-84c4-47af-8ef3-35d5a5420e2d"
      },
      "execution_count": 27,
      "outputs": [
        {
          "output_type": "stream",
          "name": "stdout",
          "text": [
            "tensor([[0.5214, 0.4569, 0.2394],\n",
            "        [0.0962, 0.6213, 0.5228]])\n"
          ]
        }
      ]
    },
    {
      "cell_type": "markdown",
      "source": [
        "#Tensor Attributes"
      ],
      "metadata": {
        "id": "A7cJuZ3-US8h"
      }
    },
    {
      "cell_type": "code",
      "source": [
        "print(ten2.dtype)\n",
        "print(ten2.device)\n",
        "print(ten2.shape)"
      ],
      "metadata": {
        "colab": {
          "base_uri": "https://localhost:8080/"
        },
        "id": "_oWlcXrdTaYd",
        "outputId": "777d2439-ecc2-496c-92a0-b3f5b54e7582"
      },
      "execution_count": 28,
      "outputs": [
        {
          "output_type": "stream",
          "name": "stdout",
          "text": [
            "torch.float32\n",
            "cpu\n",
            "torch.Size([2, 3])\n"
          ]
        }
      ]
    },
    {
      "cell_type": "markdown",
      "source": [
        "#Manipulating tensors"
      ],
      "metadata": {
        "id": "HrKo13ElVFcW"
      }
    },
    {
      "cell_type": "code",
      "source": [
        "ten3=torch.tensor([1,2,3,4,5])\n",
        "ten3"
      ],
      "metadata": {
        "colab": {
          "base_uri": "https://localhost:8080/"
        },
        "id": "B5zAbIdfT8Nh",
        "outputId": "495dfbf2-3152-4a7c-c8af-ff372b949f6b"
      },
      "execution_count": 29,
      "outputs": [
        {
          "output_type": "execute_result",
          "data": {
            "text/plain": [
              "tensor([1, 2, 3, 4, 5])"
            ]
          },
          "metadata": {},
          "execution_count": 29
        }
      ]
    },
    {
      "cell_type": "code",
      "source": [
        "#Addition\n",
        "print(ten3+10)\n",
        "#using built-in fun\n",
        "print(torch.add(ten3,10))\n",
        "#substraction\n",
        "print(ten3-10)\n",
        "print(torch.sub(ten3,10))\n",
        "#multiplication\n",
        "print(ten3*10)\n",
        "print(torch.mul(ten3,10))\n",
        "#division\n",
        "print(ten3/10)\n",
        "print(torch.div(ten3,10))"
      ],
      "metadata": {
        "colab": {
          "base_uri": "https://localhost:8080/"
        },
        "id": "kROOa7i3VTAN",
        "outputId": "b63f08e5-3599-41a8-cf9a-85d68334bef2"
      },
      "execution_count": 35,
      "outputs": [
        {
          "output_type": "stream",
          "name": "stdout",
          "text": [
            "tensor([11, 12, 13, 14, 15])\n",
            "tensor([11, 12, 13, 14, 15])\n",
            "tensor([-9, -8, -7, -6, -5])\n",
            "tensor([-9, -8, -7, -6, -5])\n",
            "tensor([10, 20, 30, 40, 50])\n",
            "tensor([10, 20, 30, 40, 50])\n",
            "tensor([0.1000, 0.2000, 0.3000, 0.4000, 0.5000])\n",
            "tensor([0.1000, 0.2000, 0.3000, 0.4000, 0.5000])\n"
          ]
        }
      ]
    },
    {
      "cell_type": "markdown",
      "source": [
        "#Matrix Multiplication"
      ],
      "metadata": {
        "id": "N5jx_L4OWRS2"
      }
    },
    {
      "cell_type": "code",
      "source": [
        "print(torch.matmul(ten3,ten3)) #dot product"
      ],
      "metadata": {
        "colab": {
          "base_uri": "https://localhost:8080/"
        },
        "id": "WtysD8LSVk3i",
        "outputId": "d740e9ce-d83b-4046-93d9-6410b58f5574"
      },
      "execution_count": 37,
      "outputs": [
        {
          "output_type": "stream",
          "name": "stdout",
          "text": [
            "tensor(55)\n"
          ]
        }
      ]
    },
    {
      "cell_type": "code",
      "source": [
        "torch.matmul(torch.rand(2,3),torch.rand(3,3))"
      ],
      "metadata": {
        "colab": {
          "base_uri": "https://localhost:8080/"
        },
        "id": "Pdrny16TXZzx",
        "outputId": "1025333c-c2d8-4abf-c012-3a05d0b8477d"
      },
      "execution_count": 40,
      "outputs": [
        {
          "output_type": "execute_result",
          "data": {
            "text/plain": [
              "tensor([[1.4038, 0.5967, 1.4563],\n",
              "        [1.1002, 0.5969, 1.4215]])"
            ]
          },
          "metadata": {},
          "execution_count": 40
        }
      ]
    },
    {
      "cell_type": "code",
      "source": [
        "#Transpose\n",
        "ten1=torch.tensor([[1,2,3],[3,4,5]])\n",
        "print(ten1)\n",
        "print(\"Transpose :\")\n",
        "print(ten1.T)"
      ],
      "metadata": {
        "colab": {
          "base_uri": "https://localhost:8080/"
        },
        "id": "w5YpLcn6YXt_",
        "outputId": "b7eb6aeb-ddb9-4108-c631-6100c997f174"
      },
      "execution_count": 41,
      "outputs": [
        {
          "output_type": "stream",
          "name": "stdout",
          "text": [
            "tensor([[1, 2, 3],\n",
            "        [3, 4, 5]])\n",
            "Transpose :\n",
            "tensor([[1, 3],\n",
            "        [2, 4],\n",
            "        [3, 5]])\n"
          ]
        }
      ]
    },
    {
      "cell_type": "code",
      "source": [
        "print(torch.matmul(ten1,ten1.T))"
      ],
      "metadata": {
        "colab": {
          "base_uri": "https://localhost:8080/"
        },
        "id": "5q1mmjuPZWsr",
        "outputId": "1160dda6-55d3-4c93-df47-202228e1c925"
      },
      "execution_count": 42,
      "outputs": [
        {
          "output_type": "stream",
          "name": "stdout",
          "text": [
            "tensor([[14, 26],\n",
            "        [26, 50]])\n"
          ]
        }
      ]
    },
    {
      "cell_type": "code",
      "source": [
        "print(ten1.T.shape)"
      ],
      "metadata": {
        "colab": {
          "base_uri": "https://localhost:8080/"
        },
        "id": "ZVcSsYEZZcZz",
        "outputId": "2685eb20-cbbe-4048-c951-6cda4db9407c"
      },
      "execution_count": 43,
      "outputs": [
        {
          "output_type": "stream",
          "name": "stdout",
          "text": [
            "torch.Size([3, 2])\n"
          ]
        }
      ]
    }
  ]
}